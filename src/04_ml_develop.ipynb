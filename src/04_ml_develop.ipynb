{
 "cells": [
  {
   "cell_type": "markdown",
   "metadata": {},
   "source": [
    "## Machine Learning Develop"
   ]
  },
  {
   "cell_type": "markdown",
   "metadata": {},
   "source": [
    "#### We Create a dataset to save the accuracies"
   ]
  },
  {
   "cell_type": "code",
   "execution_count": 66,
   "metadata": {},
   "outputs": [],
   "source": [
    "import pandas as pd\n",
    "\n",
    "accuracy_saves = pd.DataFrame(columns=['Modelo', 'Accuracy'])\n",
    "\n",
    "def guardar_accuracy(modelo,accuracy):\n",
    "\n",
    "    # Accedo a la variable accuracy saves donde guardaremos los resultados\n",
    "    global accuracy_saves\n",
    "    \n",
    "    accuracy_saves.loc[len(accuracy_saves.index)] = [modelo, accuracy]\n",
    "\n",
    "\n",
    "def actualizar_accuracy(modelo,accuracy):\n",
    "    \n",
    "    # Accedo a la variable accuracy saves donde actualizaremos los resultados\n",
    "    global accuracy_saves\n",
    "    accuracy_saves.loc[accuracy_saves['Modelo'] == modelo, 'Accuracy'] = accuracy"
   ]
  },
  {
   "cell_type": "markdown",
   "metadata": {},
   "source": [
    "### Import the datasets\n"
   ]
  },
  {
   "cell_type": "code",
   "execution_count": 67,
   "metadata": {},
   "outputs": [],
   "source": [
    "import pandas as pd\n",
    "\n",
    "# load the csv data sets\n",
    "\n",
    "# Con Index = False, no guardamos el indice en el archivo resultante\n",
    "X_train = pd.read_csv(\"../data/processed/X_train.csv\")\n",
    "X_test = pd.read_csv(\"../data/processed/X_test.csv\")\n",
    "X_train_scaled = pd.read_csv(\"../data/processed/X_train_scaled.csv\")\n",
    "X_test_scaled = pd.read_csv(\"../data/processed/X_test_scaled.csv\")\n",
    "\n",
    "y_train = pd.read_csv(\"../data/processed/y_train.csv\")\n",
    "y_test = pd.read_csv(\"../data/processed/y_test.csv\")\n"
   ]
  },
  {
   "cell_type": "markdown",
   "metadata": {},
   "source": [
    "### Load the model"
   ]
  },
  {
   "cell_type": "markdown",
   "metadata": {},
   "source": [
    "#### Prediction with Lasso (L1)"
   ]
  },
  {
   "cell_type": "code",
   "execution_count": 68,
   "metadata": {},
   "outputs": [
    {
     "data": {
      "text/html": [
       "<style>#sk-container-id-7 {color: black;}#sk-container-id-7 pre{padding: 0;}#sk-container-id-7 div.sk-toggleable {background-color: white;}#sk-container-id-7 label.sk-toggleable__label {cursor: pointer;display: block;width: 100%;margin-bottom: 0;padding: 0.3em;box-sizing: border-box;text-align: center;}#sk-container-id-7 label.sk-toggleable__label-arrow:before {content: \"▸\";float: left;margin-right: 0.25em;color: #696969;}#sk-container-id-7 label.sk-toggleable__label-arrow:hover:before {color: black;}#sk-container-id-7 div.sk-estimator:hover label.sk-toggleable__label-arrow:before {color: black;}#sk-container-id-7 div.sk-toggleable__content {max-height: 0;max-width: 0;overflow: hidden;text-align: left;background-color: #f0f8ff;}#sk-container-id-7 div.sk-toggleable__content pre {margin: 0.2em;color: black;border-radius: 0.25em;background-color: #f0f8ff;}#sk-container-id-7 input.sk-toggleable__control:checked~div.sk-toggleable__content {max-height: 200px;max-width: 100%;overflow: auto;}#sk-container-id-7 input.sk-toggleable__control:checked~label.sk-toggleable__label-arrow:before {content: \"▾\";}#sk-container-id-7 div.sk-estimator input.sk-toggleable__control:checked~label.sk-toggleable__label {background-color: #d4ebff;}#sk-container-id-7 div.sk-label input.sk-toggleable__control:checked~label.sk-toggleable__label {background-color: #d4ebff;}#sk-container-id-7 input.sk-hidden--visually {border: 0;clip: rect(1px 1px 1px 1px);clip: rect(1px, 1px, 1px, 1px);height: 1px;margin: -1px;overflow: hidden;padding: 0;position: absolute;width: 1px;}#sk-container-id-7 div.sk-estimator {font-family: monospace;background-color: #f0f8ff;border: 1px dotted black;border-radius: 0.25em;box-sizing: border-box;margin-bottom: 0.5em;}#sk-container-id-7 div.sk-estimator:hover {background-color: #d4ebff;}#sk-container-id-7 div.sk-parallel-item::after {content: \"\";width: 100%;border-bottom: 1px solid gray;flex-grow: 1;}#sk-container-id-7 div.sk-label:hover label.sk-toggleable__label {background-color: #d4ebff;}#sk-container-id-7 div.sk-serial::before {content: \"\";position: absolute;border-left: 1px solid gray;box-sizing: border-box;top: 0;bottom: 0;left: 50%;z-index: 0;}#sk-container-id-7 div.sk-serial {display: flex;flex-direction: column;align-items: center;background-color: white;padding-right: 0.2em;padding-left: 0.2em;position: relative;}#sk-container-id-7 div.sk-item {position: relative;z-index: 1;}#sk-container-id-7 div.sk-parallel {display: flex;align-items: stretch;justify-content: center;background-color: white;position: relative;}#sk-container-id-7 div.sk-item::before, #sk-container-id-7 div.sk-parallel-item::before {content: \"\";position: absolute;border-left: 1px solid gray;box-sizing: border-box;top: 0;bottom: 0;left: 50%;z-index: -1;}#sk-container-id-7 div.sk-parallel-item {display: flex;flex-direction: column;z-index: 1;position: relative;background-color: white;}#sk-container-id-7 div.sk-parallel-item:first-child::after {align-self: flex-end;width: 50%;}#sk-container-id-7 div.sk-parallel-item:last-child::after {align-self: flex-start;width: 50%;}#sk-container-id-7 div.sk-parallel-item:only-child::after {width: 0;}#sk-container-id-7 div.sk-dashed-wrapped {border: 1px dashed gray;margin: 0 0.4em 0.5em 0.4em;box-sizing: border-box;padding-bottom: 0.4em;background-color: white;}#sk-container-id-7 div.sk-label label {font-family: monospace;font-weight: bold;display: inline-block;line-height: 1.2em;}#sk-container-id-7 div.sk-label-container {text-align: center;}#sk-container-id-7 div.sk-container {/* jupyter's `normalize.less` sets `[hidden] { display: none; }` but bootstrap.min.css set `[hidden] { display: none !important; }` so we also need the `!important` here to be able to override the default hidden behavior on the sphinx rendered scikit-learn.org. See: https://github.com/scikit-learn/scikit-learn/issues/21755 */display: inline-block !important;position: relative;}#sk-container-id-7 div.sk-text-repr-fallback {display: none;}</style><div id=\"sk-container-id-7\" class=\"sk-top-container\"><div class=\"sk-text-repr-fallback\"><pre>Lasso(alpha=0.1)</pre><b>In a Jupyter environment, please rerun this cell to show the HTML representation or trust the notebook. <br />On GitHub, the HTML representation is unable to render, please try loading this page with nbviewer.org.</b></div><div class=\"sk-container\" hidden><div class=\"sk-item\"><div class=\"sk-estimator sk-toggleable\"><input class=\"sk-toggleable__control sk-hidden--visually\" id=\"sk-estimator-id-7\" type=\"checkbox\" checked><label for=\"sk-estimator-id-7\" class=\"sk-toggleable__label sk-toggleable__label-arrow\">Lasso</label><div class=\"sk-toggleable__content\"><pre>Lasso(alpha=0.1)</pre></div></div></div></div></div>"
      ],
      "text/plain": [
       "Lasso(alpha=0.1)"
      ]
     },
     "execution_count": 68,
     "metadata": {},
     "output_type": "execute_result"
    }
   ],
   "source": [
    "from sklearn.linear_model import Lasso\n",
    "\n",
    "# Carga de los datos de train y test\n",
    "# Estos datos deben haber sido normalizados y correctamente tratados en un EDA completo\n",
    "\n",
    "lasso_model = Lasso(alpha = 0.1, max_iter = 1000)\n",
    "\n",
    "lasso_model.fit(X_train_scaled, y_train)"
   ]
  },
  {
   "cell_type": "code",
   "execution_count": 69,
   "metadata": {},
   "outputs": [
    {
     "data": {
      "text/plain": [
       "array([13.72869751, 13.05410317, 12.18463078, ..., 15.84671437,\n",
       "       16.04586601, 10.69142036])"
      ]
     },
     "execution_count": 69,
     "metadata": {},
     "output_type": "execute_result"
    }
   ],
   "source": [
    "y_pred_train = lasso_model.predict(X_train_scaled)\n",
    "y_pred_train"
   ]
  },
  {
   "cell_type": "code",
   "execution_count": 70,
   "metadata": {},
   "outputs": [
    {
     "name": "stdout",
     "output_type": "stream",
     "text": [
      "MAE: 0.086180130776197\n",
      "MSE: 0.011964585236093107\n",
      "RMSE: 0.10938274651924364\n",
      "R²: 0.9983517111480121\n"
     ]
    }
   ],
   "source": [
    "from sklearn.metrics import mean_absolute_error, mean_squared_error, r2_score\n",
    "import numpy as np\n",
    "\n",
    "target = y_train\n",
    "predict = y_pred_train\n",
    "\n",
    "texto_a_guardar = 'Lasso train'\n",
    "\n",
    "# Calcula el Mean Absolute Error (MAE)\n",
    "mae_text = 'Mean Absolute Error'\n",
    "mae = mean_absolute_error(target, predict)\n",
    "print(f'MAE: {mae}')\n",
    "guardar_accuracy(f'{mae_text} {texto_a_guardar}' ,mae )\n",
    "\n",
    "# Calcula el Mean Squared Error (MSE)\n",
    "mse_text = 'Mean Squared Error'\n",
    "mse = mean_squared_error(target, predict)\n",
    "print(f'MSE: {mse}')\n",
    "guardar_accuracy(f'{mse_text} {texto_a_guardar}' ,mse )\n",
    "\n",
    "# Calcula el Root Mean Squared Error (RMSE)\n",
    "rmse_text = 'Root Mean Squared Error'\n",
    "rmse = np.sqrt(mse)\n",
    "print(f'RMSE: {rmse}')\n",
    "guardar_accuracy(f'{rmse_text} {texto_a_guardar}' ,rmse )\n",
    "\n",
    "# Calcula el Coeficiente de Determinación (R²)\n",
    "r2_text = 'R²'\n",
    "r2 = r2_score(target, predict)\n",
    "print(f'R²: {r2}')\n",
    "guardar_accuracy(f'{r2_text} {texto_a_guardar}' ,r2 )\n",
    "\n"
   ]
  },
  {
   "cell_type": "code",
   "execution_count": 71,
   "metadata": {},
   "outputs": [],
   "source": [
    "y_pred_test = lasso_model.predict(X_test_scaled)\n"
   ]
  },
  {
   "cell_type": "code",
   "execution_count": 72,
   "metadata": {},
   "outputs": [
    {
     "name": "stdout",
     "output_type": "stream",
     "text": [
      "MAE: 0.22325133381298345\n",
      "MSE: 0.08591949676412967\n",
      "RMSE: 0.2931202769583327\n",
      "R²: 0.9893176832587962\n"
     ]
    }
   ],
   "source": [
    "from sklearn.metrics import mean_absolute_error, mean_squared_error, r2_score\n",
    "import numpy as np\n",
    "\n",
    "target = y_test\n",
    "predict = y_pred_test\n",
    "\n",
    "texto_a_guardar = 'Lasso test'\n",
    "\n",
    "# Calcula el Mean Absolute Error (MAE)\n",
    "mae_text = 'Mean Absolute Error'\n",
    "mae = mean_absolute_error(target, predict)\n",
    "print(f'MAE: {mae}')\n",
    "guardar_accuracy(f'{mae_text} {texto_a_guardar}' ,mae )\n",
    "\n",
    "# Calcula el Mean Squared Error (MSE)\n",
    "mse_text = 'Mean Squared Error'\n",
    "mse = mean_squared_error(target, predict)\n",
    "print(f'MSE: {mse}')\n",
    "guardar_accuracy(f'{mse_text} {texto_a_guardar}' ,mse )\n",
    "\n",
    "# Calcula el Root Mean Squared Error (RMSE)\n",
    "rmse_text = 'Root Mean Squared Error'\n",
    "rmse = np.sqrt(mse)\n",
    "print(f'RMSE: {rmse}')\n",
    "guardar_accuracy(f'{rmse_text} {texto_a_guardar}' ,rmse )\n",
    "\n",
    "# Calcula el Coeficiente de Determinación (R²)\n",
    "r2_text = 'R²'\n",
    "r2 = r2_score(target, predict)\n",
    "print(f'R²: {r2}')\n",
    "guardar_accuracy(f'{r2_text} {texto_a_guardar}' ,r2 )\n",
    "\n"
   ]
  },
  {
   "cell_type": "markdown",
   "metadata": {},
   "source": [
    "Lasso Hyperparameters"
   ]
  },
  {
   "cell_type": "code",
   "execution_count": 73,
   "metadata": {},
   "outputs": [
    {
     "data": {
      "text/plain": [
       "{'alpha': 0.1,\n",
       " 'copy_X': True,\n",
       " 'fit_intercept': True,\n",
       " 'max_iter': 1000,\n",
       " 'positive': False,\n",
       " 'precompute': False,\n",
       " 'random_state': None,\n",
       " 'selection': 'cyclic',\n",
       " 'tol': 0.0001,\n",
       " 'warm_start': False}"
      ]
     },
     "execution_count": 73,
     "metadata": {},
     "output_type": "execute_result"
    }
   ],
   "source": [
    "# Obténgo la lista de parámetros válidos y sus valores actuales\n",
    "params = lasso_model.get_params()\n",
    "params"
   ]
  },
  {
   "cell_type": "code",
   "execution_count": 74,
   "metadata": {},
   "outputs": [],
   "source": [
    "from sklearn.model_selection import GridSearchCV\n",
    "\n",
    "# Definir el modelo Lasso\n",
    "lasso_model = Lasso()\n",
    "\n",
    "# Definir los parámetros que deseas explorar en la cuadrícula\n",
    "param_grid = {\n",
    "\n",
    " 'alpha': [0.0001, 0.001, 0.01, 0.1, 1, 10, 100],              #un valor más alto implica una regularización más fuerte, lo que puede llevar a la reducción de algunos coeficientes a cero\n",
    " 'copy_X': [True],            #El parámetro copy_x indica si se debe realizar una copia de los datos originales antes de aplicar ciertas operaciones, evitando así modificar los datos originales durante el proceso.\n",
    " 'fit_intercept': [True],     #determina si se debe ajustar un término de intercepción en el modelo de regresión lineal, permitiendo o evitando la estimación de un término independiente.\n",
    " 'max_iter': [10000],          #especifica el número máximo de iteraciones que el algoritmo de optimización puede realizar para converger y encontrar la solución.\n",
    " 'positive': [False],         #impone restricciones para que los coeficientes del modelo sean no negativos, lo que significa que solo se permiten valores positivos o cero para prevenir coeficientes negativos.\n",
    " 'precompute': [True],        #indica si se deben precalcular productos internos para mejorar la velocidad del ajuste; si es True, se precalculan, y si es False (valor por defecto), se calculan durante la optimización.\n",
    " 'random_state': [None],      #establece una semilla para la generación de números aleatorios, lo que garantiza que el proceso de ajuste del modelo sea reproducible\n",
    " 'selection': ['cyclic'],     #determina el método utilizado para actualizar los coeficientes durante la optimización, donde \"cyclic\" sigue un orden cíclico y \"random\" selecciona aleatoriamente predictores en cada paso\n",
    " 'tol': [0.0001],             #establece la tolerancia para la convergencia del algoritmo de optimización, indicando la precisión requerida para detener el proceso de ajuste cuando la mejora en el objetivo es pequeña\n",
    " 'warm_start': [True]        #permite reutilizar la solución del modelo anterior como punto de inicio para el ajuste del modelo actual, lo que puede ser útil para realizar ajustes incrementales o iterativos en conjuntos de datos cambiantes.\n",
    " \n",
    " }\n",
    "\n",
    "\n",
    "# Configurar la búsqueda de cuadrícula\n",
    "grid_search = GridSearchCV(estimator=lasso_model, param_grid=param_grid, scoring='r2')"
   ]
  },
  {
   "cell_type": "code",
   "execution_count": 75,
   "metadata": {},
   "outputs": [
    {
     "name": "stdout",
     "output_type": "stream",
     "text": [
      "Mejores parámetros: {'alpha': 0.0001, 'copy_X': True, 'fit_intercept': True, 'max_iter': 10000, 'positive': False, 'precompute': True, 'random_state': None, 'selection': 'cyclic', 'tol': 0.0001, 'warm_start': True}\n"
     ]
    }
   ],
   "source": [
    "# Entrenar el modelo con todas las combinaciones de parámetros\n",
    "grid_search.fit(X_train_scaled, y_train)\n",
    "\n",
    "# Mostrar los mejores parámetros encontrados\n",
    "print(\"Mejores parámetros:\", grid_search.best_params_)\n",
    "\n",
    "# Obtener el mejor modelo\n",
    "best_lasso_model = grid_search.best_estimator_"
   ]
  },
  {
   "cell_type": "code",
   "execution_count": 76,
   "metadata": {},
   "outputs": [
    {
     "data": {
      "text/plain": [
       "array([13.76311093, 13.07289984, 12.15857857, ..., 15.96131804,\n",
       "       16.15274707, 10.59882662])"
      ]
     },
     "execution_count": 76,
     "metadata": {},
     "output_type": "execute_result"
    }
   ],
   "source": [
    "y_pred_train = best_lasso_model.predict(X_train_scaled)\n",
    "y_pred_train"
   ]
  },
  {
   "cell_type": "code",
   "execution_count": 77,
   "metadata": {},
   "outputs": [
    {
     "name": "stdout",
     "output_type": "stream",
     "text": [
      "MAE: 0.03301591559565055\n",
      "MSE: 0.0018549929760126387\n",
      "RMSE: 0.04306962939256198\n",
      "R²: 0.9997444487892774\n"
     ]
    }
   ],
   "source": [
    "from sklearn.metrics import mean_absolute_error, mean_squared_error, r2_score\n",
    "import numpy as np\n",
    "\n",
    "target = y_train\n",
    "predict = y_pred_train\n",
    "\n",
    "texto_a_guardar = 'Lasso gridSearch'\n",
    "\n",
    "# Calcula el Mean Absolute Error (MAE)\n",
    "mae_text = 'Mean Absolute Error'\n",
    "mae = mean_absolute_error(target, predict)\n",
    "print(f'MAE: {mae}')\n",
    "guardar_accuracy(f'{mae_text} {texto_a_guardar}' ,mae )\n",
    "\n",
    "# Calcula el Mean Squared Error (MSE)\n",
    "mse_text = 'Mean Squared Error'\n",
    "mse = mean_squared_error(target, predict)\n",
    "print(f'MSE: {mse}')\n",
    "guardar_accuracy(f'{mse_text} {texto_a_guardar}' ,mse )\n",
    "\n",
    "# Calcula el Root Mean Squared Error (RMSE)\n",
    "rmse_text = 'Root Mean Squared Error'\n",
    "rmse = np.sqrt(mse)\n",
    "print(f'RMSE: {rmse}')\n",
    "guardar_accuracy(f'{rmse_text} {texto_a_guardar}' ,rmse )\n",
    "\n",
    "# Calcula el Coeficiente de Determinación (R²)\n",
    "r2_text = 'R²'\n",
    "r2 = r2_score(target, predict)\n",
    "print(f'R²: {r2}')\n",
    "guardar_accuracy(f'{r2_text} {texto_a_guardar}' ,r2 )\n",
    "\n"
   ]
  },
  {
   "cell_type": "code",
   "execution_count": 78,
   "metadata": {},
   "outputs": [
    {
     "data": {
      "text/plain": [
       "array([14.57202606, 10.17823363, 18.65869644, 10.5286923 ,  9.36870214,\n",
       "        9.51802785, 11.42790218, 17.5175672 , 11.57569291,  8.89036244,\n",
       "       11.48467174, 16.18821586,  8.61230338, 14.38073297, 10.94024064,\n",
       "       13.37166292, 13.17229311, 14.51808526, 16.62240152, 12.27787277,\n",
       "       14.1343203 , 11.99764561, 10.81410348, 15.32296853, 13.22122311,\n",
       "       10.60604335,  7.36287055, 11.04969834, 10.71113595, 17.85698886,\n",
       "       20.03683326, 16.89870926, 14.14712223, 12.80691467, 11.36164325,\n",
       "       15.2903374 , 14.56489975, 10.13664043, 11.95737321,  8.99659067,\n",
       "       16.61060311, 10.70769959, 11.04022611, 12.65832715, 10.61610488,\n",
       "       14.85343258, 13.80187045, 13.79399793, 16.61097202, 17.63473675,\n",
       "       14.08560542, 23.23416242, 10.60552871, 16.75133184, 13.23759893,\n",
       "       18.70594677, 11.37408174, 10.70968727, 13.19192386, 11.80715195,\n",
       "        8.99472657, 13.80189739, 13.24638893, 10.08217718, 11.99614918,\n",
       "       10.32940613, 11.38224961, 12.62555838, 12.55894733, 12.08101521,\n",
       "       10.18514802, 15.85242114, 11.9151583 , 14.75585154, 12.18611025,\n",
       "        9.94140946, 14.22327238, 10.13704368, 12.28853774, 14.6048797 ,\n",
       "       17.03934173,  8.46817922,  8.9809969 , 19.22309682, 11.94963772,\n",
       "        7.537276  ,  9.21776771, 11.37372684, 11.47496715,  8.9839092 ,\n",
       "       18.52521107, 13.05561311,  9.42319151, 12.76278853, 15.03818609,\n",
       "       10.70416629, 14.95408962, 15.66642061, 13.80978081, 11.86084429,\n",
       "       12.94489887, 10.95757062, 14.94743621, 11.18349954, 11.60450452,\n",
       "       11.04144761, 16.89295138, 10.51882505, 12.56374412, 11.37493232,\n",
       "        9.80326145, 13.51771683,  9.02346574, 14.65928359, 11.1420994 ,\n",
       "        8.60648393, 11.04989303,  7.41102321, 12.80084222, 14.62467118,\n",
       "       21.94918541, 15.3450647 , 15.5730838 , 14.4675238 , 15.2833606 ,\n",
       "       12.62007189,  7.85152997, 14.80263055, 10.5177726 , 12.79710077,\n",
       "       12.04408727, 13.69937508, 13.65402258, 11.59647188, 15.22469473,\n",
       "       18.28262973, 16.33716948, 10.89714509, 15.99608217, 15.94313092,\n",
       "       14.86335649, 11.90217484,  9.51357982, 16.57487665, 13.37282809,\n",
       "       10.94216219, 15.41655389, 10.89661996, 11.52758206,  9.08709695,\n",
       "       14.95651857, 10.28218806, 17.66500694, 15.27979942, 12.23504926,\n",
       "       15.61447811, 11.80828588, 12.04646482, 10.47177803,  9.80689175,\n",
       "        8.50938733, 15.27894982, 11.62192292, 10.84801222, 13.85508372,\n",
       "       11.80577715, 18.56613781,  7.65580179, 14.08732   , 15.18006911,\n",
       "       14.85715919, 12.07526495, 10.79660906, 14.37240083, 13.71863751,\n",
       "       12.1362249 , 14.33344362, 10.00282818, 12.71082435, 14.23660511,\n",
       "       13.18943055, 14.85426556, 14.47680611, 16.02908921, 10.94690114,\n",
       "       10.98895672, 11.89932079, 17.65808835, 11.09185692, 19.56219048,\n",
       "       10.08187772, 14.07858469, 14.19269553, 16.74999886, 14.2837724 ,\n",
       "       10.51412023, 11.23724372, 16.47086903, 14.79793398, 17.9324864 ,\n",
       "       12.99077033, 11.99860335,  9.45101953, 14.13770523, 15.71459931,\n",
       "       11.90469533, 15.4775396 , 16.47480925, 14.32632394, 15.76062939,\n",
       "       15.81222261, 12.48056989, 11.90801842, 12.93754579, 14.32784355,\n",
       "        9.06965838, 18.27766015, 12.56051281, 14.95320171,  8.84806498,\n",
       "       10.09018312, 17.75432576, 15.0390979 , 12.52971768, 12.57113654,\n",
       "       17.46865593, 13.6621191 , 12.38215464, 16.18821194, 14.32496313,\n",
       "       11.48104268, 14.56389368,  9.90459574, 10.33205352, 15.41817443,\n",
       "       15.6758106 , 14.43251366, 11.08669217, 15.37379594,  8.74833347,\n",
       "       12.08013016, 12.95466193, 14.85670499, 14.57576961, 14.33131963,\n",
       "       13.23107873, 12.28876997, 10.00330838, 12.61870417, 14.89646274,\n",
       "       17.57379172, 11.47227778, 11.65782156, 12.2905369 , 12.4232653 ,\n",
       "       11.91145631, 13.56623577, 10.61214157, 14.28114253, 14.29105781,\n",
       "       12.86355029, 11.29024852, 13.80120057, 12.18920139, 14.4172045 ,\n",
       "       12.56831939, 11.6154036 , 10.00903636, 13.51535386, 13.05101507,\n",
       "       13.6198099 , 13.60486385, 10.47437876, 14.08990611, 11.27286959,\n",
       "       11.95711   , 12.18457686, 11.98531835, 11.80137506, 12.18464336,\n",
       "       14.12342827, 11.52008809, 16.37729589, 13.37077015, 12.32900563,\n",
       "       12.22880471, 14.32854671, 11.94648934, 15.33027403, 14.70716135,\n",
       "       11.14287116,  9.61401527, 17.61655794, 15.13532577, 11.90300062,\n",
       "        8.12492053, 14.00131695, 10.08365642,  9.65007446, 12.41597917,\n",
       "       11.13362964, 15.71044724,  8.80972885, 12.71350318, 15.61030427,\n",
       "        6.89974239, 15.46835044,  7.08302546, 12.4617767 , 12.57195164,\n",
       "       17.61242823, 15.14361383, 13.41013394, 12.33276247, 13.6596028 ,\n",
       "       10.51334804, 13.75052835, 12.65957961, 12.47547325, 14.47399067,\n",
       "       15.8008431 , 12.57516768, 11.14251707, 11.38480353, 14.28382321,\n",
       "       12.28966532, 24.85126681, 15.67194428, 19.32684846, 11.70711655,\n",
       "       15.89721615, 11.98531283, 10.98648611, 11.65651783, 14.70446816,\n",
       "       11.95391641, 13.13633054, 12.43087097, 11.4271857 , 19.18083387,\n",
       "       16.6087303 , 14.61449717, 12.47891192, 15.61690326, 13.55955687,\n",
       "       11.29077954, 21.32650569, 14.90816796, 14.61813753, 14.18920586,\n",
       "       11.28921108, 11.14681399, 16.17703489, 11.47236777,  9.55643014,\n",
       "       16.47909062, 16.71140512, 11.51971557, 13.71009964, 11.04353444,\n",
       "       16.05039428, 12.90017797, 16.61186961, 18.50982309, 17.87108042,\n",
       "       10.71515802, 10.13488408, 13.51996496, 17.65738612, 13.43072929,\n",
       "       14.56098789, 11.09932069, 11.09030979, 13.61130233, 13.56887658,\n",
       "       13.95171522, 14.85995562, 12.29208362, 10.42274423, 13.57798045,\n",
       "       12.19612421,  9.18055023, 10.07984726, 11.70676477,  9.38147839,\n",
       "       14.65575751, 12.81123593, 13.04342108,  7.93328579, 10.37904645,\n",
       "       12.66475795, 15.13656825, 11.81010218, 13.28320505, 12.90609426,\n",
       "       13.3282353 , 14.95517854, 11.32850307, 16.27970205, 13.37418926,\n",
       "       14.3775958 , 15.94560305, 11.69956818, 13.76243404, 10.14067828,\n",
       "       17.51367341, 14.18900137,  9.79966187, 12.65689754, 12.94568138,\n",
       "       17.12594175, 12.70964097, 11.03997235, 13.66319564, 17.2453199 ,\n",
       "        7.93077115, 13.37199104, 11.80833023, 16.75610689, 12.147458  ,\n",
       "       17.2756972 , 13.37676328, 19.65466797, 11.28586026,  9.42811515,\n",
       "       11.43401827, 18.23529194, 14.60771707, 16.37683045, 11.19058562,\n",
       "       12.04020862, 17.15183159, 12.71376098, 16.52446506, 10.57084447,\n",
       "       16.37692404, 15.19351504, 13.57143507, 10.37033991, 14.12887759,\n",
       "       15.76071668, 11.62451013,  7.3640333 , 14.75293083, 10.94945215,\n",
       "       14.5564341 ,  9.6692022 , 16.61877135, 13.65348804, 14.42782159,\n",
       "       12.57555773, 15.89071332, 19.80418396, 13.46575767, 12.70372866,\n",
       "       11.90934075, 11.29279232, 13.12628859,  7.79555036, 10.28581057,\n",
       "       14.17715723, 12.01026084, 11.81734768, 11.43867032, 10.38789714,\n",
       "       10.76190376, 11.33208744, 13.41944572, 13.52052365, 14.80307092,\n",
       "        9.46279047, 11.09644459, 15.19300309, 11.42459741, 15.85928953,\n",
       "       12.33039331, 12.89615964,  9.85611184, 14.03484803, 17.79869522,\n",
       "       13.10171091, 16.42384156, 10.57346411, 11.61247417,  8.56115761,\n",
       "       14.04965489, 12.90159474, 11.22696533,  9.48154613, 11.38063313,\n",
       "       17.54991175, 11.47635541, 12.42914104, 14.62159486, 15.52935199,\n",
       "        9.66315465, 13.42509985, 16.18214197,  9.65078107, 14.96300484,\n",
       "       11.13832336,  9.37160643, 12.18207124, 21.99236202, 15.13768382,\n",
       "        8.66570376, 12.89770345, 15.5633921 , 15.32621366, 13.18833757,\n",
       "       13.90735182, 15.28911948, 11.28603167, 15.70957906, 11.27647182,\n",
       "       12.80605917, 16.13384086, 13.13161667, 10.04856433, 12.38518622,\n",
       "       11.75775718, 11.38855219, 14.81524804, 15.76398217, 12.80978346,\n",
       "       13.42083933,  8.41393336, 10.21839222, 10.65254042,  8.80658644,\n",
       "       11.14528784,  8.56849946, 14.41272746, 16.83767521, 12.80094327,\n",
       "       12.98947368, 16.41870479, 10.84361905,  8.70496884, 10.47226879,\n",
       "        8.71154762, 11.23817966, 15.31823971, 11.12898719, 11.08604416,\n",
       "        9.84421107, 15.62750132, 10.29002657, 12.47473458, 20.24170927,\n",
       "       14.52123689, 14.2794479 , 11.79817408,  8.61028268, 12.5122371 ,\n",
       "       12.94795007,  9.94370515, 15.44787072, 13.75446261,  9.98935224,\n",
       "       16.28227953, 11.70886894, 13.0829273 , 12.75906348, 11.62115281,\n",
       "       10.57243637, 11.08942401, 11.94674076, 14.85133902, 14.7211549 ,\n",
       "       14.28533832, 14.8580806 , 21.80404744, 13.37941777, 14.99144655,\n",
       "       11.08292499, 11.32325748, 11.28724762, 11.41924291, 14.38175658,\n",
       "       14.76650158, 12.89948637, 12.23717729, 10.4736537 , 10.85366648,\n",
       "       14.37312911, 17.70667054, 12.5065889 , 11.7098792 ,  8.26957706,\n",
       "        9.42050891, 12.04112609, 11.42847161, 13.4571286 , 10.75524514,\n",
       "       14.56517482, 11.05441425, 14.17987068, 11.66095549, 13.85551926,\n",
       "       13.00690408, 10.51073516, 12.18742214, 12.79691237, 19.36738696,\n",
       "       14.03667135, 10.98687806, 11.09330456, 11.3300393 , 10.47034664,\n",
       "        9.98108048, 12.66695827,  9.80309996, 17.56279542, 11.75789941,\n",
       "       15.10009487, 20.28367637, 10.99341759, 11.46652888, 13.57247204,\n",
       "       15.23595072, 13.75835879,  9.28820637,  9.71371498, 11.32968152,\n",
       "       12.10529303, 14.79773486, 11.12809124])"
      ]
     },
     "execution_count": 78,
     "metadata": {},
     "output_type": "execute_result"
    }
   ],
   "source": [
    "y_pred_test = best_lasso_model.predict(X_test_scaled)\n",
    "y_pred_test"
   ]
  },
  {
   "cell_type": "code",
   "execution_count": 79,
   "metadata": {},
   "outputs": [
    {
     "name": "stdout",
     "output_type": "stream",
     "text": [
      "MAE: 0.1744520870535314\n",
      "MSE: 0.0475828398112005\n",
      "RMSE: 0.2181349119494642\n",
      "R²: 0.9940840555932887\n"
     ]
    }
   ],
   "source": [
    "from sklearn.metrics import mean_absolute_error, mean_squared_error, r2_score\n",
    "import numpy as np\n",
    "\n",
    "target = y_test\n",
    "predict = y_pred_test\n",
    "\n",
    "texto_a_guardar = 'Lasso gridSearch TEST'\n",
    "\n",
    "# Calcula el Mean Absolute Error (MAE)\n",
    "mae_text = 'Mean Absolute Error'\n",
    "mae = mean_absolute_error(target, predict)\n",
    "print(f'MAE: {mae}')\n",
    "guardar_accuracy(f'{mae_text} {texto_a_guardar}' ,mae )\n",
    "\n",
    "# Calcula el Mean Squared Error (MSE)\n",
    "mse_text = 'Mean Squared Error'\n",
    "mse = mean_squared_error(target, predict)\n",
    "print(f'MSE: {mse}')\n",
    "guardar_accuracy(f'{mse_text} {texto_a_guardar}' ,mse )\n",
    "\n",
    "# Calcula el Root Mean Squared Error (RMSE)\n",
    "rmse_text = 'Root Mean Squared Error'\n",
    "rmse = np.sqrt(mse)\n",
    "print(f'RMSE: {rmse}')\n",
    "guardar_accuracy(f'{rmse_text} {texto_a_guardar}' ,rmse )\n",
    "\n",
    "# Calcula el Coeficiente de Determinación (R²)\n",
    "r2_text = 'R²'\n",
    "r2 = r2_score(target, predict)\n",
    "print(f'R²: {r2}')\n",
    "guardar_accuracy(f'{r2_text} {texto_a_guardar}' ,r2 )\n",
    "\n"
   ]
  },
  {
   "cell_type": "markdown",
   "metadata": {},
   "source": [
    "#### Prediction with Ridge (L2)"
   ]
  },
  {
   "cell_type": "code",
   "execution_count": 80,
   "metadata": {},
   "outputs": [
    {
     "data": {
      "text/html": [
       "<style>#sk-container-id-8 {color: black;}#sk-container-id-8 pre{padding: 0;}#sk-container-id-8 div.sk-toggleable {background-color: white;}#sk-container-id-8 label.sk-toggleable__label {cursor: pointer;display: block;width: 100%;margin-bottom: 0;padding: 0.3em;box-sizing: border-box;text-align: center;}#sk-container-id-8 label.sk-toggleable__label-arrow:before {content: \"▸\";float: left;margin-right: 0.25em;color: #696969;}#sk-container-id-8 label.sk-toggleable__label-arrow:hover:before {color: black;}#sk-container-id-8 div.sk-estimator:hover label.sk-toggleable__label-arrow:before {color: black;}#sk-container-id-8 div.sk-toggleable__content {max-height: 0;max-width: 0;overflow: hidden;text-align: left;background-color: #f0f8ff;}#sk-container-id-8 div.sk-toggleable__content pre {margin: 0.2em;color: black;border-radius: 0.25em;background-color: #f0f8ff;}#sk-container-id-8 input.sk-toggleable__control:checked~div.sk-toggleable__content {max-height: 200px;max-width: 100%;overflow: auto;}#sk-container-id-8 input.sk-toggleable__control:checked~label.sk-toggleable__label-arrow:before {content: \"▾\";}#sk-container-id-8 div.sk-estimator input.sk-toggleable__control:checked~label.sk-toggleable__label {background-color: #d4ebff;}#sk-container-id-8 div.sk-label input.sk-toggleable__control:checked~label.sk-toggleable__label {background-color: #d4ebff;}#sk-container-id-8 input.sk-hidden--visually {border: 0;clip: rect(1px 1px 1px 1px);clip: rect(1px, 1px, 1px, 1px);height: 1px;margin: -1px;overflow: hidden;padding: 0;position: absolute;width: 1px;}#sk-container-id-8 div.sk-estimator {font-family: monospace;background-color: #f0f8ff;border: 1px dotted black;border-radius: 0.25em;box-sizing: border-box;margin-bottom: 0.5em;}#sk-container-id-8 div.sk-estimator:hover {background-color: #d4ebff;}#sk-container-id-8 div.sk-parallel-item::after {content: \"\";width: 100%;border-bottom: 1px solid gray;flex-grow: 1;}#sk-container-id-8 div.sk-label:hover label.sk-toggleable__label {background-color: #d4ebff;}#sk-container-id-8 div.sk-serial::before {content: \"\";position: absolute;border-left: 1px solid gray;box-sizing: border-box;top: 0;bottom: 0;left: 50%;z-index: 0;}#sk-container-id-8 div.sk-serial {display: flex;flex-direction: column;align-items: center;background-color: white;padding-right: 0.2em;padding-left: 0.2em;position: relative;}#sk-container-id-8 div.sk-item {position: relative;z-index: 1;}#sk-container-id-8 div.sk-parallel {display: flex;align-items: stretch;justify-content: center;background-color: white;position: relative;}#sk-container-id-8 div.sk-item::before, #sk-container-id-8 div.sk-parallel-item::before {content: \"\";position: absolute;border-left: 1px solid gray;box-sizing: border-box;top: 0;bottom: 0;left: 50%;z-index: -1;}#sk-container-id-8 div.sk-parallel-item {display: flex;flex-direction: column;z-index: 1;position: relative;background-color: white;}#sk-container-id-8 div.sk-parallel-item:first-child::after {align-self: flex-end;width: 50%;}#sk-container-id-8 div.sk-parallel-item:last-child::after {align-self: flex-start;width: 50%;}#sk-container-id-8 div.sk-parallel-item:only-child::after {width: 0;}#sk-container-id-8 div.sk-dashed-wrapped {border: 1px dashed gray;margin: 0 0.4em 0.5em 0.4em;box-sizing: border-box;padding-bottom: 0.4em;background-color: white;}#sk-container-id-8 div.sk-label label {font-family: monospace;font-weight: bold;display: inline-block;line-height: 1.2em;}#sk-container-id-8 div.sk-label-container {text-align: center;}#sk-container-id-8 div.sk-container {/* jupyter's `normalize.less` sets `[hidden] { display: none; }` but bootstrap.min.css set `[hidden] { display: none !important; }` so we also need the `!important` here to be able to override the default hidden behavior on the sphinx rendered scikit-learn.org. See: https://github.com/scikit-learn/scikit-learn/issues/21755 */display: inline-block !important;position: relative;}#sk-container-id-8 div.sk-text-repr-fallback {display: none;}</style><div id=\"sk-container-id-8\" class=\"sk-top-container\"><div class=\"sk-text-repr-fallback\"><pre>Ridge(alpha=0.1, max_iter=1000)</pre><b>In a Jupyter environment, please rerun this cell to show the HTML representation or trust the notebook. <br />On GitHub, the HTML representation is unable to render, please try loading this page with nbviewer.org.</b></div><div class=\"sk-container\" hidden><div class=\"sk-item\"><div class=\"sk-estimator sk-toggleable\"><input class=\"sk-toggleable__control sk-hidden--visually\" id=\"sk-estimator-id-8\" type=\"checkbox\" checked><label for=\"sk-estimator-id-8\" class=\"sk-toggleable__label sk-toggleable__label-arrow\">Ridge</label><div class=\"sk-toggleable__content\"><pre>Ridge(alpha=0.1, max_iter=1000)</pre></div></div></div></div></div>"
      ],
      "text/plain": [
       "Ridge(alpha=0.1, max_iter=1000)"
      ]
     },
     "execution_count": 80,
     "metadata": {},
     "output_type": "execute_result"
    }
   ],
   "source": [
    "from sklearn.linear_model import Ridge\n",
    "\n",
    "# Carga de los datos de train y test\n",
    "# Estos datos deben haber sido normalizados y correctamente tratados en un EDA completo\n",
    "\n",
    "ridge_model = Ridge(alpha = 0.1, max_iter = 1000)\n",
    "\n",
    "ridge_model.fit(X_train_scaled, y_train)"
   ]
  },
  {
   "cell_type": "code",
   "execution_count": 81,
   "metadata": {},
   "outputs": [
    {
     "data": {
      "text/plain": [
       "array([[13.77498836],\n",
       "       [13.08765696],\n",
       "       [12.15799113],\n",
       "       ...,\n",
       "       [15.9530305 ],\n",
       "       [16.16843567],\n",
       "       [10.60003923]])"
      ]
     },
     "execution_count": 81,
     "metadata": {},
     "output_type": "execute_result"
    }
   ],
   "source": [
    "y_pred_train = ridge_model.predict(X_train_scaled)\n",
    "y_pred_train"
   ]
  },
  {
   "cell_type": "code",
   "execution_count": 82,
   "metadata": {},
   "outputs": [
    {
     "name": "stdout",
     "output_type": "stream",
     "text": [
      "MAE: 0.0329096516177228\n",
      "MSE: 0.0017216266446838891\n",
      "RMSE: 0.04149248901528913\n",
      "R²: 0.9997628218655539\n"
     ]
    }
   ],
   "source": [
    "from sklearn.metrics import mean_absolute_error, mean_squared_error, r2_score\n",
    "import numpy as np\n",
    "\n",
    "target = y_train\n",
    "predict = y_pred_train\n",
    "\n",
    "texto_a_guardar = 'Ridge train'\n",
    "\n",
    "# Calcula el Mean Absolute Error (MAE)\n",
    "mae_text = 'Mean Absolute Error'\n",
    "mae = mean_absolute_error(target, predict)\n",
    "print(f'MAE: {mae}')\n",
    "guardar_accuracy(f'{mae_text} {texto_a_guardar}' ,mae )\n",
    "\n",
    "# Calcula el Mean Squared Error (MSE)\n",
    "mse_text = 'Mean Squared Error'\n",
    "mse = mean_squared_error(target, predict)\n",
    "print(f'MSE: {mse}')\n",
    "guardar_accuracy(f'{mse_text} {texto_a_guardar}' ,mse )\n",
    "\n",
    "# Calcula el Root Mean Squared Error (RMSE)\n",
    "rmse_text = 'Root Mean Squared Error'\n",
    "rmse = np.sqrt(mse)\n",
    "print(f'RMSE: {rmse}')\n",
    "guardar_accuracy(f'{rmse_text} {texto_a_guardar}' ,rmse )\n",
    "\n",
    "# Calcula el Coeficiente de Determinación (R²)\n",
    "r2_text = 'R²'\n",
    "r2 = r2_score(target, predict)\n",
    "print(f'R²: {r2}')\n",
    "guardar_accuracy(f'{r2_text} {texto_a_guardar}' ,r2 )\n",
    "\n"
   ]
  },
  {
   "cell_type": "code",
   "execution_count": 83,
   "metadata": {},
   "outputs": [],
   "source": [
    "y_pred_test = ridge_model.predict(X_test_scaled)\n"
   ]
  },
  {
   "cell_type": "code",
   "execution_count": 84,
   "metadata": {},
   "outputs": [
    {
     "name": "stdout",
     "output_type": "stream",
     "text": [
      "MAE: 0.17417978115159788\n",
      "MSE: 0.04726686985971877\n",
      "RMSE: 0.21740945209378265\n",
      "R²: 0.9941233399376989\n"
     ]
    }
   ],
   "source": [
    "from sklearn.metrics import mean_absolute_error, mean_squared_error, r2_score\n",
    "import numpy as np\n",
    "\n",
    "target = y_test\n",
    "predict = y_pred_test\n",
    "\n",
    "texto_a_guardar = 'Ridge test'\n",
    "\n",
    "# Calcula el Mean Absolute Error (MAE)\n",
    "mae_text = 'Mean Absolute Error'\n",
    "mae = mean_absolute_error(target, predict)\n",
    "print(f'MAE: {mae}')\n",
    "guardar_accuracy(f'{mae_text} {texto_a_guardar}' ,mae )\n",
    "\n",
    "# Calcula el Mean Squared Error (MSE)\n",
    "mse_text = 'Mean Squared Error'\n",
    "mse = mean_squared_error(target, predict)\n",
    "print(f'MSE: {mse}')\n",
    "guardar_accuracy(f'{mse_text} {texto_a_guardar}' ,mse )\n",
    "\n",
    "# Calcula el Root Mean Squared Error (RMSE)\n",
    "rmse_text = 'Root Mean Squared Error'\n",
    "rmse = np.sqrt(mse)\n",
    "print(f'RMSE: {rmse}')\n",
    "guardar_accuracy(f'{rmse_text} {texto_a_guardar}' ,rmse )\n",
    "\n",
    "# Calcula el Coeficiente de Determinación (R²)\n",
    "r2_text = 'R²'\n",
    "r2 = r2_score(target, predict)\n",
    "print(f'R²: {r2}')\n",
    "guardar_accuracy(f'{r2_text} {texto_a_guardar}' ,r2 )\n"
   ]
  },
  {
   "cell_type": "markdown",
   "metadata": {},
   "source": [
    "Ridge Hyperparameters"
   ]
  },
  {
   "cell_type": "code",
   "execution_count": 85,
   "metadata": {},
   "outputs": [
    {
     "data": {
      "text/plain": [
       "{'alpha': 0.1,\n",
       " 'copy_X': True,\n",
       " 'fit_intercept': True,\n",
       " 'max_iter': 1000,\n",
       " 'positive': False,\n",
       " 'random_state': None,\n",
       " 'solver': 'auto',\n",
       " 'tol': 0.0001}"
      ]
     },
     "execution_count": 85,
     "metadata": {},
     "output_type": "execute_result"
    }
   ],
   "source": [
    "# Obténgo la lista de parámetros válidos y sus valores actuales\n",
    "params = ridge_model.get_params()\n",
    "params"
   ]
  },
  {
   "cell_type": "code",
   "execution_count": 86,
   "metadata": {},
   "outputs": [],
   "source": [
    "from sklearn.model_selection import GridSearchCV\n",
    "\n",
    "# Definir el modelo Ridge\n",
    "ridge_model = Ridge()\n",
    "\n",
    "# Definir los parámetros que deseas explorar en la cuadrícula\n",
    "param_grid = {\n",
    "\n",
    " 'alpha': [0.0001, 0.001, 0.01, 0.1, 1, 10, 100],              #un valor más alto implica una regularización más fuerte, lo que puede llevar a la reducción de algunos coeficientes a cero\n",
    " 'copy_X': [True],            #El parámetro copy_x indica si se debe realizar una copia de los datos originales antes de aplicar ciertas operaciones, evitando así modificar los datos originales durante el proceso.\n",
    " 'fit_intercept': [True],     #determina si se debe ajustar un término de intercepción en el modelo de regresión lineal, permitiendo o evitando la estimación de un término independiente.\n",
    " 'max_iter': [10000],          #especifica el número máximo de iteraciones que el algoritmo de optimización puede realizar para converger y encontrar la solución.\n",
    " 'positive': [False],         #impone restricciones para que los coeficientes del modelo sean no negativos, lo que significa que solo se permiten valores positivos o cero para prevenir coeficientes negativos.\n",
    " 'precompute': [True],        #indica si se deben precalcular productos internos para mejorar la velocidad del ajuste; si es True, se precalculan, y si es False (valor por defecto), se calculan durante la optimización.\n",
    " 'random_state': [None],      #establece una semilla para la generación de números aleatorios, lo que garantiza que el proceso de ajuste del modelo sea reproducible\n",
    " 'selection': ['cyclic'],     #determina el método utilizado para actualizar los coeficientes durante la optimización, donde \"cyclic\" sigue un orden cíclico y \"random\" selecciona aleatoriamente predictores en cada paso\n",
    " 'tol': [0.0001],             #establece la tolerancia para la convergencia del algoritmo de optimización, indicando la precisión requerida para detener el proceso de ajuste cuando la mejora en el objetivo es pequeña\n",
    " 'warm_start': [True]        #permite reutilizar la solución del modelo anterior como punto de inicio para el ajuste del modelo actual, lo que puede ser útil para realizar ajustes incrementales o iterativos en conjuntos de datos cambiantes.\n",
    " \n",
    " }\n",
    "\n",
    "\n",
    "# Configurar la búsqueda de cuadrícula\n",
    "grid_search = GridSearchCV(estimator=lasso_model, param_grid=param_grid, scoring='r2')"
   ]
  },
  {
   "cell_type": "code",
   "execution_count": 87,
   "metadata": {},
   "outputs": [
    {
     "name": "stdout",
     "output_type": "stream",
     "text": [
      "Mejores parámetros: {'alpha': 0.0001, 'copy_X': True, 'fit_intercept': True, 'max_iter': 10000, 'positive': False, 'precompute': True, 'random_state': None, 'selection': 'cyclic', 'tol': 0.0001, 'warm_start': True}\n"
     ]
    }
   ],
   "source": [
    "# Entrenar el modelo con todas las combinaciones de parámetros\n",
    "grid_search.fit(X_train_scaled, y_train)\n",
    "\n",
    "# Mostrar los mejores parámetros encontrados\n",
    "print(\"Mejores parámetros:\", grid_search.best_params_)\n",
    "\n",
    "# Obtener el mejor modelo\n",
    "best_ridge_model = grid_search.best_estimator_"
   ]
  },
  {
   "cell_type": "code",
   "execution_count": 98,
   "metadata": {},
   "outputs": [],
   "source": [
    "import pickle\n",
    "\n",
    "#Cambiar el objeto por el que queramos guardar\n",
    "objeto = best_ridge_model\n",
    "\n",
    "ruta_guardado = '../models/ridge_model.pkl'\n",
    "\n",
    "with open(ruta_guardado, \"wb\") as archivo:\n",
    "    pickle.dump(objeto, archivo)"
   ]
  },
  {
   "cell_type": "code",
   "execution_count": 88,
   "metadata": {},
   "outputs": [
    {
     "data": {
      "text/plain": [
       "array([13.76311093, 13.07289984, 12.15857857, ..., 15.96131804,\n",
       "       16.15274707, 10.59882662])"
      ]
     },
     "execution_count": 88,
     "metadata": {},
     "output_type": "execute_result"
    }
   ],
   "source": [
    "y_pred_train = best_ridge_model.predict(X_train_scaled)\n",
    "y_pred_train"
   ]
  },
  {
   "cell_type": "code",
   "execution_count": 89,
   "metadata": {},
   "outputs": [
    {
     "name": "stdout",
     "output_type": "stream",
     "text": [
      "MAE: 0.03301591559565055\n",
      "MSE: 0.0018549929760126387\n",
      "RMSE: 0.04306962939256198\n",
      "R²: 0.9997444487892774\n"
     ]
    }
   ],
   "source": [
    "from sklearn.metrics import mean_absolute_error, mean_squared_error, r2_score\n",
    "import numpy as np\n",
    "\n",
    "target = y_train\n",
    "predict = y_pred_train\n",
    "\n",
    "texto_a_guardar = 'Ridge gridSearch'\n",
    "\n",
    "# Calcula el Mean Absolute Error (MAE)\n",
    "mae_text = 'Mean Absolute Error'\n",
    "mae = mean_absolute_error(target, predict)\n",
    "print(f'MAE: {mae}')\n",
    "guardar_accuracy(f'{mae_text} {texto_a_guardar}' ,mae )\n",
    "\n",
    "# Calcula el Mean Squared Error (MSE)\n",
    "mse_text = 'Mean Squared Error'\n",
    "mse = mean_squared_error(target, predict)\n",
    "print(f'MSE: {mse}')\n",
    "guardar_accuracy(f'{mse_text} {texto_a_guardar}' ,mse )\n",
    "\n",
    "# Calcula el Root Mean Squared Error (RMSE)\n",
    "rmse_text = 'Root Mean Squared Error'\n",
    "rmse = np.sqrt(mse)\n",
    "print(f'RMSE: {rmse}')\n",
    "guardar_accuracy(f'{rmse_text} {texto_a_guardar}' ,rmse )\n",
    "\n",
    "# Calcula el Coeficiente de Determinación (R²)\n",
    "r2_text = 'R²'\n",
    "r2 = r2_score(target, predict)\n",
    "print(f'R²: {r2}')\n",
    "guardar_accuracy(f'{r2_text} {texto_a_guardar}' ,r2 )\n",
    "\n"
   ]
  },
  {
   "cell_type": "code",
   "execution_count": 90,
   "metadata": {},
   "outputs": [
    {
     "data": {
      "text/plain": [
       "array([14.57202606, 10.17823363, 18.65869644, 10.5286923 ,  9.36870214,\n",
       "        9.51802785, 11.42790218, 17.5175672 , 11.57569291,  8.89036244,\n",
       "       11.48467174, 16.18821586,  8.61230338, 14.38073297, 10.94024064,\n",
       "       13.37166292, 13.17229311, 14.51808526, 16.62240152, 12.27787277,\n",
       "       14.1343203 , 11.99764561, 10.81410348, 15.32296853, 13.22122311,\n",
       "       10.60604335,  7.36287055, 11.04969834, 10.71113595, 17.85698886,\n",
       "       20.03683326, 16.89870926, 14.14712223, 12.80691467, 11.36164325,\n",
       "       15.2903374 , 14.56489975, 10.13664043, 11.95737321,  8.99659067,\n",
       "       16.61060311, 10.70769959, 11.04022611, 12.65832715, 10.61610488,\n",
       "       14.85343258, 13.80187045, 13.79399793, 16.61097202, 17.63473675,\n",
       "       14.08560542, 23.23416242, 10.60552871, 16.75133184, 13.23759893,\n",
       "       18.70594677, 11.37408174, 10.70968727, 13.19192386, 11.80715195,\n",
       "        8.99472657, 13.80189739, 13.24638893, 10.08217718, 11.99614918,\n",
       "       10.32940613, 11.38224961, 12.62555838, 12.55894733, 12.08101521,\n",
       "       10.18514802, 15.85242114, 11.9151583 , 14.75585154, 12.18611025,\n",
       "        9.94140946, 14.22327238, 10.13704368, 12.28853774, 14.6048797 ,\n",
       "       17.03934173,  8.46817922,  8.9809969 , 19.22309682, 11.94963772,\n",
       "        7.537276  ,  9.21776771, 11.37372684, 11.47496715,  8.9839092 ,\n",
       "       18.52521107, 13.05561311,  9.42319151, 12.76278853, 15.03818609,\n",
       "       10.70416629, 14.95408962, 15.66642061, 13.80978081, 11.86084429,\n",
       "       12.94489887, 10.95757062, 14.94743621, 11.18349954, 11.60450452,\n",
       "       11.04144761, 16.89295138, 10.51882505, 12.56374412, 11.37493232,\n",
       "        9.80326145, 13.51771683,  9.02346574, 14.65928359, 11.1420994 ,\n",
       "        8.60648393, 11.04989303,  7.41102321, 12.80084222, 14.62467118,\n",
       "       21.94918541, 15.3450647 , 15.5730838 , 14.4675238 , 15.2833606 ,\n",
       "       12.62007189,  7.85152997, 14.80263055, 10.5177726 , 12.79710077,\n",
       "       12.04408727, 13.69937508, 13.65402258, 11.59647188, 15.22469473,\n",
       "       18.28262973, 16.33716948, 10.89714509, 15.99608217, 15.94313092,\n",
       "       14.86335649, 11.90217484,  9.51357982, 16.57487665, 13.37282809,\n",
       "       10.94216219, 15.41655389, 10.89661996, 11.52758206,  9.08709695,\n",
       "       14.95651857, 10.28218806, 17.66500694, 15.27979942, 12.23504926,\n",
       "       15.61447811, 11.80828588, 12.04646482, 10.47177803,  9.80689175,\n",
       "        8.50938733, 15.27894982, 11.62192292, 10.84801222, 13.85508372,\n",
       "       11.80577715, 18.56613781,  7.65580179, 14.08732   , 15.18006911,\n",
       "       14.85715919, 12.07526495, 10.79660906, 14.37240083, 13.71863751,\n",
       "       12.1362249 , 14.33344362, 10.00282818, 12.71082435, 14.23660511,\n",
       "       13.18943055, 14.85426556, 14.47680611, 16.02908921, 10.94690114,\n",
       "       10.98895672, 11.89932079, 17.65808835, 11.09185692, 19.56219048,\n",
       "       10.08187772, 14.07858469, 14.19269553, 16.74999886, 14.2837724 ,\n",
       "       10.51412023, 11.23724372, 16.47086903, 14.79793398, 17.9324864 ,\n",
       "       12.99077033, 11.99860335,  9.45101953, 14.13770523, 15.71459931,\n",
       "       11.90469533, 15.4775396 , 16.47480925, 14.32632394, 15.76062939,\n",
       "       15.81222261, 12.48056989, 11.90801842, 12.93754579, 14.32784355,\n",
       "        9.06965838, 18.27766015, 12.56051281, 14.95320171,  8.84806498,\n",
       "       10.09018312, 17.75432576, 15.0390979 , 12.52971768, 12.57113654,\n",
       "       17.46865593, 13.6621191 , 12.38215464, 16.18821194, 14.32496313,\n",
       "       11.48104268, 14.56389368,  9.90459574, 10.33205352, 15.41817443,\n",
       "       15.6758106 , 14.43251366, 11.08669217, 15.37379594,  8.74833347,\n",
       "       12.08013016, 12.95466193, 14.85670499, 14.57576961, 14.33131963,\n",
       "       13.23107873, 12.28876997, 10.00330838, 12.61870417, 14.89646274,\n",
       "       17.57379172, 11.47227778, 11.65782156, 12.2905369 , 12.4232653 ,\n",
       "       11.91145631, 13.56623577, 10.61214157, 14.28114253, 14.29105781,\n",
       "       12.86355029, 11.29024852, 13.80120057, 12.18920139, 14.4172045 ,\n",
       "       12.56831939, 11.6154036 , 10.00903636, 13.51535386, 13.05101507,\n",
       "       13.6198099 , 13.60486385, 10.47437876, 14.08990611, 11.27286959,\n",
       "       11.95711   , 12.18457686, 11.98531835, 11.80137506, 12.18464336,\n",
       "       14.12342827, 11.52008809, 16.37729589, 13.37077015, 12.32900563,\n",
       "       12.22880471, 14.32854671, 11.94648934, 15.33027403, 14.70716135,\n",
       "       11.14287116,  9.61401527, 17.61655794, 15.13532577, 11.90300062,\n",
       "        8.12492053, 14.00131695, 10.08365642,  9.65007446, 12.41597917,\n",
       "       11.13362964, 15.71044724,  8.80972885, 12.71350318, 15.61030427,\n",
       "        6.89974239, 15.46835044,  7.08302546, 12.4617767 , 12.57195164,\n",
       "       17.61242823, 15.14361383, 13.41013394, 12.33276247, 13.6596028 ,\n",
       "       10.51334804, 13.75052835, 12.65957961, 12.47547325, 14.47399067,\n",
       "       15.8008431 , 12.57516768, 11.14251707, 11.38480353, 14.28382321,\n",
       "       12.28966532, 24.85126681, 15.67194428, 19.32684846, 11.70711655,\n",
       "       15.89721615, 11.98531283, 10.98648611, 11.65651783, 14.70446816,\n",
       "       11.95391641, 13.13633054, 12.43087097, 11.4271857 , 19.18083387,\n",
       "       16.6087303 , 14.61449717, 12.47891192, 15.61690326, 13.55955687,\n",
       "       11.29077954, 21.32650569, 14.90816796, 14.61813753, 14.18920586,\n",
       "       11.28921108, 11.14681399, 16.17703489, 11.47236777,  9.55643014,\n",
       "       16.47909062, 16.71140512, 11.51971557, 13.71009964, 11.04353444,\n",
       "       16.05039428, 12.90017797, 16.61186961, 18.50982309, 17.87108042,\n",
       "       10.71515802, 10.13488408, 13.51996496, 17.65738612, 13.43072929,\n",
       "       14.56098789, 11.09932069, 11.09030979, 13.61130233, 13.56887658,\n",
       "       13.95171522, 14.85995562, 12.29208362, 10.42274423, 13.57798045,\n",
       "       12.19612421,  9.18055023, 10.07984726, 11.70676477,  9.38147839,\n",
       "       14.65575751, 12.81123593, 13.04342108,  7.93328579, 10.37904645,\n",
       "       12.66475795, 15.13656825, 11.81010218, 13.28320505, 12.90609426,\n",
       "       13.3282353 , 14.95517854, 11.32850307, 16.27970205, 13.37418926,\n",
       "       14.3775958 , 15.94560305, 11.69956818, 13.76243404, 10.14067828,\n",
       "       17.51367341, 14.18900137,  9.79966187, 12.65689754, 12.94568138,\n",
       "       17.12594175, 12.70964097, 11.03997235, 13.66319564, 17.2453199 ,\n",
       "        7.93077115, 13.37199104, 11.80833023, 16.75610689, 12.147458  ,\n",
       "       17.2756972 , 13.37676328, 19.65466797, 11.28586026,  9.42811515,\n",
       "       11.43401827, 18.23529194, 14.60771707, 16.37683045, 11.19058562,\n",
       "       12.04020862, 17.15183159, 12.71376098, 16.52446506, 10.57084447,\n",
       "       16.37692404, 15.19351504, 13.57143507, 10.37033991, 14.12887759,\n",
       "       15.76071668, 11.62451013,  7.3640333 , 14.75293083, 10.94945215,\n",
       "       14.5564341 ,  9.6692022 , 16.61877135, 13.65348804, 14.42782159,\n",
       "       12.57555773, 15.89071332, 19.80418396, 13.46575767, 12.70372866,\n",
       "       11.90934075, 11.29279232, 13.12628859,  7.79555036, 10.28581057,\n",
       "       14.17715723, 12.01026084, 11.81734768, 11.43867032, 10.38789714,\n",
       "       10.76190376, 11.33208744, 13.41944572, 13.52052365, 14.80307092,\n",
       "        9.46279047, 11.09644459, 15.19300309, 11.42459741, 15.85928953,\n",
       "       12.33039331, 12.89615964,  9.85611184, 14.03484803, 17.79869522,\n",
       "       13.10171091, 16.42384156, 10.57346411, 11.61247417,  8.56115761,\n",
       "       14.04965489, 12.90159474, 11.22696533,  9.48154613, 11.38063313,\n",
       "       17.54991175, 11.47635541, 12.42914104, 14.62159486, 15.52935199,\n",
       "        9.66315465, 13.42509985, 16.18214197,  9.65078107, 14.96300484,\n",
       "       11.13832336,  9.37160643, 12.18207124, 21.99236202, 15.13768382,\n",
       "        8.66570376, 12.89770345, 15.5633921 , 15.32621366, 13.18833757,\n",
       "       13.90735182, 15.28911948, 11.28603167, 15.70957906, 11.27647182,\n",
       "       12.80605917, 16.13384086, 13.13161667, 10.04856433, 12.38518622,\n",
       "       11.75775718, 11.38855219, 14.81524804, 15.76398217, 12.80978346,\n",
       "       13.42083933,  8.41393336, 10.21839222, 10.65254042,  8.80658644,\n",
       "       11.14528784,  8.56849946, 14.41272746, 16.83767521, 12.80094327,\n",
       "       12.98947368, 16.41870479, 10.84361905,  8.70496884, 10.47226879,\n",
       "        8.71154762, 11.23817966, 15.31823971, 11.12898719, 11.08604416,\n",
       "        9.84421107, 15.62750132, 10.29002657, 12.47473458, 20.24170927,\n",
       "       14.52123689, 14.2794479 , 11.79817408,  8.61028268, 12.5122371 ,\n",
       "       12.94795007,  9.94370515, 15.44787072, 13.75446261,  9.98935224,\n",
       "       16.28227953, 11.70886894, 13.0829273 , 12.75906348, 11.62115281,\n",
       "       10.57243637, 11.08942401, 11.94674076, 14.85133902, 14.7211549 ,\n",
       "       14.28533832, 14.8580806 , 21.80404744, 13.37941777, 14.99144655,\n",
       "       11.08292499, 11.32325748, 11.28724762, 11.41924291, 14.38175658,\n",
       "       14.76650158, 12.89948637, 12.23717729, 10.4736537 , 10.85366648,\n",
       "       14.37312911, 17.70667054, 12.5065889 , 11.7098792 ,  8.26957706,\n",
       "        9.42050891, 12.04112609, 11.42847161, 13.4571286 , 10.75524514,\n",
       "       14.56517482, 11.05441425, 14.17987068, 11.66095549, 13.85551926,\n",
       "       13.00690408, 10.51073516, 12.18742214, 12.79691237, 19.36738696,\n",
       "       14.03667135, 10.98687806, 11.09330456, 11.3300393 , 10.47034664,\n",
       "        9.98108048, 12.66695827,  9.80309996, 17.56279542, 11.75789941,\n",
       "       15.10009487, 20.28367637, 10.99341759, 11.46652888, 13.57247204,\n",
       "       15.23595072, 13.75835879,  9.28820637,  9.71371498, 11.32968152,\n",
       "       12.10529303, 14.79773486, 11.12809124])"
      ]
     },
     "execution_count": 90,
     "metadata": {},
     "output_type": "execute_result"
    }
   ],
   "source": [
    "y_pred_test = best_lasso_model.predict(X_test_scaled)\n",
    "y_pred_test"
   ]
  },
  {
   "cell_type": "code",
   "execution_count": 91,
   "metadata": {},
   "outputs": [
    {
     "name": "stdout",
     "output_type": "stream",
     "text": [
      "MAE: 0.1744520870535314\n",
      "MSE: 0.0475828398112005\n",
      "RMSE: 0.2181349119494642\n",
      "R²: 0.9940840555932887\n"
     ]
    }
   ],
   "source": [
    "from sklearn.metrics import mean_absolute_error, mean_squared_error, r2_score\n",
    "import numpy as np\n",
    "\n",
    "target = y_test\n",
    "predict = y_pred_test\n",
    "\n",
    "texto_a_guardar = 'Ridge gridSearch TEST'\n",
    "\n",
    "# Calcula el Mean Absolute Error (MAE)\n",
    "mae_text = 'Mean Absolute Error'\n",
    "mae = mean_absolute_error(target, predict)\n",
    "print(f'MAE: {mae}')\n",
    "guardar_accuracy(f'{mae_text} {texto_a_guardar}' ,mae )\n",
    "\n",
    "# Calcula el Mean Squared Error (MSE)\n",
    "mse_text = 'Mean Squared Error'\n",
    "mse = mean_squared_error(target, predict)\n",
    "print(f'MSE: {mse}')\n",
    "guardar_accuracy(f'{mse_text} {texto_a_guardar}' ,mse )\n",
    "\n",
    "# Calcula el Root Mean Squared Error (RMSE)\n",
    "rmse_text = 'Root Mean Squared Error'\n",
    "rmse = np.sqrt(mse)\n",
    "print(f'RMSE: {rmse}')\n",
    "guardar_accuracy(f'{rmse_text} {texto_a_guardar}' ,rmse )\n",
    "\n",
    "# Calcula el Coeficiente de Determinación (R²)\n",
    "r2_text = 'R²'\n",
    "r2 = r2_score(target, predict)\n",
    "print(f'R²: {r2}')\n",
    "guardar_accuracy(f'{r2_text} {texto_a_guardar}' ,r2 )\n",
    "\n"
   ]
  },
  {
   "cell_type": "markdown",
   "metadata": {},
   "source": [
    "#### Prediction with ElasticNet"
   ]
  },
  {
   "cell_type": "code",
   "execution_count": 92,
   "metadata": {},
   "outputs": [
    {
     "data": {
      "text/html": [
       "<style>#sk-container-id-9 {color: black;}#sk-container-id-9 pre{padding: 0;}#sk-container-id-9 div.sk-toggleable {background-color: white;}#sk-container-id-9 label.sk-toggleable__label {cursor: pointer;display: block;width: 100%;margin-bottom: 0;padding: 0.3em;box-sizing: border-box;text-align: center;}#sk-container-id-9 label.sk-toggleable__label-arrow:before {content: \"▸\";float: left;margin-right: 0.25em;color: #696969;}#sk-container-id-9 label.sk-toggleable__label-arrow:hover:before {color: black;}#sk-container-id-9 div.sk-estimator:hover label.sk-toggleable__label-arrow:before {color: black;}#sk-container-id-9 div.sk-toggleable__content {max-height: 0;max-width: 0;overflow: hidden;text-align: left;background-color: #f0f8ff;}#sk-container-id-9 div.sk-toggleable__content pre {margin: 0.2em;color: black;border-radius: 0.25em;background-color: #f0f8ff;}#sk-container-id-9 input.sk-toggleable__control:checked~div.sk-toggleable__content {max-height: 200px;max-width: 100%;overflow: auto;}#sk-container-id-9 input.sk-toggleable__control:checked~label.sk-toggleable__label-arrow:before {content: \"▾\";}#sk-container-id-9 div.sk-estimator input.sk-toggleable__control:checked~label.sk-toggleable__label {background-color: #d4ebff;}#sk-container-id-9 div.sk-label input.sk-toggleable__control:checked~label.sk-toggleable__label {background-color: #d4ebff;}#sk-container-id-9 input.sk-hidden--visually {border: 0;clip: rect(1px 1px 1px 1px);clip: rect(1px, 1px, 1px, 1px);height: 1px;margin: -1px;overflow: hidden;padding: 0;position: absolute;width: 1px;}#sk-container-id-9 div.sk-estimator {font-family: monospace;background-color: #f0f8ff;border: 1px dotted black;border-radius: 0.25em;box-sizing: border-box;margin-bottom: 0.5em;}#sk-container-id-9 div.sk-estimator:hover {background-color: #d4ebff;}#sk-container-id-9 div.sk-parallel-item::after {content: \"\";width: 100%;border-bottom: 1px solid gray;flex-grow: 1;}#sk-container-id-9 div.sk-label:hover label.sk-toggleable__label {background-color: #d4ebff;}#sk-container-id-9 div.sk-serial::before {content: \"\";position: absolute;border-left: 1px solid gray;box-sizing: border-box;top: 0;bottom: 0;left: 50%;z-index: 0;}#sk-container-id-9 div.sk-serial {display: flex;flex-direction: column;align-items: center;background-color: white;padding-right: 0.2em;padding-left: 0.2em;position: relative;}#sk-container-id-9 div.sk-item {position: relative;z-index: 1;}#sk-container-id-9 div.sk-parallel {display: flex;align-items: stretch;justify-content: center;background-color: white;position: relative;}#sk-container-id-9 div.sk-item::before, #sk-container-id-9 div.sk-parallel-item::before {content: \"\";position: absolute;border-left: 1px solid gray;box-sizing: border-box;top: 0;bottom: 0;left: 50%;z-index: -1;}#sk-container-id-9 div.sk-parallel-item {display: flex;flex-direction: column;z-index: 1;position: relative;background-color: white;}#sk-container-id-9 div.sk-parallel-item:first-child::after {align-self: flex-end;width: 50%;}#sk-container-id-9 div.sk-parallel-item:last-child::after {align-self: flex-start;width: 50%;}#sk-container-id-9 div.sk-parallel-item:only-child::after {width: 0;}#sk-container-id-9 div.sk-dashed-wrapped {border: 1px dashed gray;margin: 0 0.4em 0.5em 0.4em;box-sizing: border-box;padding-bottom: 0.4em;background-color: white;}#sk-container-id-9 div.sk-label label {font-family: monospace;font-weight: bold;display: inline-block;line-height: 1.2em;}#sk-container-id-9 div.sk-label-container {text-align: center;}#sk-container-id-9 div.sk-container {/* jupyter's `normalize.less` sets `[hidden] { display: none; }` but bootstrap.min.css set `[hidden] { display: none !important; }` so we also need the `!important` here to be able to override the default hidden behavior on the sphinx rendered scikit-learn.org. See: https://github.com/scikit-learn/scikit-learn/issues/21755 */display: inline-block !important;position: relative;}#sk-container-id-9 div.sk-text-repr-fallback {display: none;}</style><div id=\"sk-container-id-9\" class=\"sk-top-container\"><div class=\"sk-text-repr-fallback\"><pre>ElasticNet(alpha=0.5)</pre><b>In a Jupyter environment, please rerun this cell to show the HTML representation or trust the notebook. <br />On GitHub, the HTML representation is unable to render, please try loading this page with nbviewer.org.</b></div><div class=\"sk-container\" hidden><div class=\"sk-item\"><div class=\"sk-estimator sk-toggleable\"><input class=\"sk-toggleable__control sk-hidden--visually\" id=\"sk-estimator-id-9\" type=\"checkbox\" checked><label for=\"sk-estimator-id-9\" class=\"sk-toggleable__label sk-toggleable__label-arrow\">ElasticNet</label><div class=\"sk-toggleable__content\"><pre>ElasticNet(alpha=0.5)</pre></div></div></div></div></div>"
      ],
      "text/plain": [
       "ElasticNet(alpha=0.5)"
      ]
     },
     "execution_count": 92,
     "metadata": {},
     "output_type": "execute_result"
    }
   ],
   "source": [
    "from sklearn.linear_model import ElasticNet\n",
    "\n",
    "alpha = 0.5  # Factor de mezcla entre las penalizaciones L1 y L2, ajusta según tu necesidad\n",
    "l1_ratio = 0.5  # Parámetro que controla la mezcla de L1 y L2, ajusta según tu necesidad\n",
    "\n",
    "elastic_net_model = ElasticNet(alpha=alpha, l1_ratio=l1_ratio)\n",
    "elastic_net_model.fit(X_train_scaled, y_train)"
   ]
  },
  {
   "cell_type": "code",
   "execution_count": 93,
   "metadata": {},
   "outputs": [
    {
     "data": {
      "text/plain": [
       "array([13.95931935, 13.03855906, 11.92713958, ..., 15.80457317,\n",
       "       15.97159214, 11.32447882])"
      ]
     },
     "execution_count": 93,
     "metadata": {},
     "output_type": "execute_result"
    }
   ],
   "source": [
    "y_pred_train = elastic_net_model.predict(X_train_scaled)\n",
    "y_pred_train"
   ]
  },
  {
   "cell_type": "code",
   "execution_count": 94,
   "metadata": {},
   "outputs": [
    {
     "name": "stdout",
     "output_type": "stream",
     "text": [
      "MAE: 0.39302311587449107\n",
      "MSE: 0.24468991617108676\n",
      "RMSE: 0.49466141568863725\n",
      "R²: 0.966290543879285\n"
     ]
    }
   ],
   "source": [
    "from sklearn.metrics import mean_absolute_error, mean_squared_error, r2_score\n",
    "import numpy as np\n",
    "\n",
    "target = y_train\n",
    "predict = y_pred_train\n",
    "\n",
    "texto_a_guardar = 'ElasticNet Train'\n",
    "\n",
    "# Calcula el Mean Absolute Error (MAE)\n",
    "mae_text = 'Mean Absolute Error'\n",
    "mae = mean_absolute_error(target, predict)\n",
    "print(f'MAE: {mae}')\n",
    "guardar_accuracy(f'{mae_text} {texto_a_guardar}' ,mae )\n",
    "\n",
    "# Calcula el Mean Squared Error (MSE)\n",
    "mse_text = 'Mean Squared Error'\n",
    "mse = mean_squared_error(target, predict)\n",
    "print(f'MSE: {mse}')\n",
    "guardar_accuracy(f'{mse_text} {texto_a_guardar}' ,mse )\n",
    "\n",
    "# Calcula el Root Mean Squared Error (RMSE)\n",
    "rmse_text = 'Root Mean Squared Error'\n",
    "rmse = np.sqrt(mse)\n",
    "print(f'RMSE: {rmse}')\n",
    "guardar_accuracy(f'{rmse_text} {texto_a_guardar}' ,rmse )\n",
    "\n",
    "# Calcula el Coeficiente de Determinación (R²)\n",
    "r2_text = 'R²'\n",
    "r2 = r2_score(target, predict)\n",
    "print(f'R²: {r2}')\n",
    "guardar_accuracy(f'{r2_text} {texto_a_guardar}' ,r2 )"
   ]
  },
  {
   "cell_type": "code",
   "execution_count": 95,
   "metadata": {},
   "outputs": [],
   "source": [
    "y_pred_test = elastic_net_model.predict(X_test_scaled)"
   ]
  },
  {
   "cell_type": "code",
   "execution_count": 96,
   "metadata": {},
   "outputs": [
    {
     "name": "stdout",
     "output_type": "stream",
     "text": [
      "MAE: 0.4788394063612089\n",
      "MSE: 0.39433363025135476\n",
      "RMSE: 0.6279598954163831\n",
      "R²: 0.950972748925453\n"
     ]
    }
   ],
   "source": [
    "from sklearn.metrics import mean_absolute_error, mean_squared_error, r2_score\n",
    "import numpy as np\n",
    "\n",
    "target = y_test\n",
    "predict = y_pred_test\n",
    "\n",
    "texto_a_guardar = 'ElasticNet test'\n",
    "\n",
    "# Calcula el Mean Absolute Error (MAE)\n",
    "mae_text = 'Mean Absolute Error'\n",
    "mae = mean_absolute_error(target, predict)\n",
    "print(f'MAE: {mae}')\n",
    "guardar_accuracy(f'{mae_text} {texto_a_guardar}' ,mae )\n",
    "\n",
    "# Calcula el Mean Squared Error (MSE)\n",
    "mse_text = 'Mean Squared Error'\n",
    "mse = mean_squared_error(target, predict)\n",
    "print(f'MSE: {mse}')\n",
    "guardar_accuracy(f'{mse_text} {texto_a_guardar}' ,mse )\n",
    "\n",
    "# Calcula el Root Mean Squared Error (RMSE)\n",
    "rmse_text = 'Root Mean Squared Error'\n",
    "rmse = np.sqrt(mse)\n",
    "print(f'RMSE: {rmse}')\n",
    "guardar_accuracy(f'{rmse_text} {texto_a_guardar}' ,rmse )\n",
    "\n",
    "# Calcula el Coeficiente de Determinación (R²)\n",
    "r2_text = 'R²'\n",
    "r2 = r2_score(target, predict)\n",
    "print(f'R²: {r2}')\n",
    "guardar_accuracy(f'{r2_text} {texto_a_guardar}' ,r2 )"
   ]
  },
  {
   "cell_type": "markdown",
   "metadata": {},
   "source": [
    "Finally we see the accuracies obtained from different models"
   ]
  },
  {
   "cell_type": "code",
   "execution_count": 97,
   "metadata": {},
   "outputs": [
    {
     "data": {
      "text/html": [
       "<div>\n",
       "<style scoped>\n",
       "    .dataframe tbody tr th:only-of-type {\n",
       "        vertical-align: middle;\n",
       "    }\n",
       "\n",
       "    .dataframe tbody tr th {\n",
       "        vertical-align: top;\n",
       "    }\n",
       "\n",
       "    .dataframe thead th {\n",
       "        text-align: right;\n",
       "    }\n",
       "</style>\n",
       "<table border=\"1\" class=\"dataframe\">\n",
       "  <thead>\n",
       "    <tr style=\"text-align: right;\">\n",
       "      <th></th>\n",
       "      <th>Modelo</th>\n",
       "      <th>Accuracy</th>\n",
       "    </tr>\n",
       "  </thead>\n",
       "  <tbody>\n",
       "    <tr>\n",
       "      <th>3</th>\n",
       "      <td>R² Lasso train</td>\n",
       "      <td>0.998352</td>\n",
       "    </tr>\n",
       "    <tr>\n",
       "      <th>7</th>\n",
       "      <td>R² Lasso test</td>\n",
       "      <td>0.989318</td>\n",
       "    </tr>\n",
       "    <tr>\n",
       "      <th>11</th>\n",
       "      <td>R² Lasso gridSearch</td>\n",
       "      <td>0.999744</td>\n",
       "    </tr>\n",
       "    <tr>\n",
       "      <th>15</th>\n",
       "      <td>R² Lasso gridSearch TEST</td>\n",
       "      <td>0.994084</td>\n",
       "    </tr>\n",
       "    <tr>\n",
       "      <th>19</th>\n",
       "      <td>R² Ridge train</td>\n",
       "      <td>0.999763</td>\n",
       "    </tr>\n",
       "    <tr>\n",
       "      <th>23</th>\n",
       "      <td>R² Ridge test</td>\n",
       "      <td>0.994123</td>\n",
       "    </tr>\n",
       "    <tr>\n",
       "      <th>27</th>\n",
       "      <td>R² Ridge gridSearch</td>\n",
       "      <td>0.999744</td>\n",
       "    </tr>\n",
       "    <tr>\n",
       "      <th>31</th>\n",
       "      <td>R² Ridge gridSearch TEST</td>\n",
       "      <td>0.994084</td>\n",
       "    </tr>\n",
       "    <tr>\n",
       "      <th>35</th>\n",
       "      <td>R² ElasticNet Train</td>\n",
       "      <td>0.966291</td>\n",
       "    </tr>\n",
       "    <tr>\n",
       "      <th>39</th>\n",
       "      <td>R² ElasticNet test</td>\n",
       "      <td>0.950973</td>\n",
       "    </tr>\n",
       "  </tbody>\n",
       "</table>\n",
       "</div>"
      ],
      "text/plain": [
       "                      Modelo  Accuracy\n",
       "3             R² Lasso train  0.998352\n",
       "7              R² Lasso test  0.989318\n",
       "11       R² Lasso gridSearch  0.999744\n",
       "15  R² Lasso gridSearch TEST  0.994084\n",
       "19            R² Ridge train  0.999763\n",
       "23             R² Ridge test  0.994123\n",
       "27       R² Ridge gridSearch  0.999744\n",
       "31  R² Ridge gridSearch TEST  0.994084\n",
       "35       R² ElasticNet Train  0.966291\n",
       "39        R² ElasticNet test  0.950973"
      ]
     },
     "execution_count": 97,
     "metadata": {},
     "output_type": "execute_result"
    }
   ],
   "source": [
    "busqueda = 'R²'\n",
    "\n",
    "accuracy_saves[accuracy_saves['Modelo'].str.contains(busqueda, case=False)]"
   ]
  },
  {
   "cell_type": "markdown",
   "metadata": {},
   "source": [
    "After searching through different models, we decided on either the Ridge or Lasso model after tuning the hyperparameters"
   ]
  },
  {
   "cell_type": "markdown",
   "metadata": {},
   "source": [
    "After this practice, we have learned: \n",
    "- how to enhance linear regression with hyperparameters\n",
    "- how L1 and L2 behave to reduce the complexity of the model, and prevent overfitting."
   ]
  }
 ],
 "metadata": {
  "kernelspec": {
   "display_name": "venv",
   "language": "python",
   "name": "python3"
  },
  "language_info": {
   "codemirror_mode": {
    "name": "ipython",
    "version": 3
   },
   "file_extension": ".py",
   "mimetype": "text/x-python",
   "name": "python",
   "nbconvert_exporter": "python",
   "pygments_lexer": "ipython3",
   "version": "3.11.6"
  }
 },
 "nbformat": 4,
 "nbformat_minor": 2
}
