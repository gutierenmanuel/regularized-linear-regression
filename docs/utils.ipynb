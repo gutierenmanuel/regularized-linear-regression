{
 "cells": [
  {
   "cell_type": "code",
   "execution_count": 5,
   "metadata": {},
   "outputs": [],
   "source": [
    "def agregar_guion_al_principio(cadena):\n",
    "    # Dividir la cadena en líneas\n",
    "    lineas = cadena.splitlines()\n",
    "\n",
    "    # Agregar ' - ' al principio de cada línea\n",
    "    lineas_con_guion = [' - ' + linea for linea in lineas]\n",
    "\n",
    "    # Unir las líneas nuevamente en un solo string\n",
    "    resultado = '\\n'.join(lineas_con_guion)\n",
    "\n",
    "    return resultado"
   ]
  },
  {
   "cell_type": "code",
   "execution_count": 6,
   "metadata": {},
   "outputs": [],
   "source": [
    "nombre_archivo = '/media/tr4shhh/Tr4Shhh_FOLDER/Proyects/4geeks/15_Regresion_lineal_regularizada/regularized-linear-regression/docs/descripcion_columnas.md'\n",
    "\n",
    "\n",
    "# Leer el contenido del archivo\n",
    "with open(nombre_archivo, \"r\", encoding=\"utf-8\") as archivo:\n",
    "    contenido_md = archivo.read()"
   ]
  },
  {
   "cell_type": "code",
   "execution_count": 7,
   "metadata": {},
   "outputs": [],
   "source": [
    "contenido_md = agregar_guion_al_principio(contenido_md)\n"
   ]
  },
  {
   "cell_type": "code",
   "execution_count": 8,
   "metadata": {},
   "outputs": [],
   "source": [
    "nombre_archivo = '/media/tr4shhh/Tr4Shhh_FOLDER/Proyects/4geeks/15_Regresion_lineal_regularizada/regularized-linear-regression/docs/descripcion_columnas.md'\n",
    "\n",
    "\n",
    "# Escribir el contenido en el nuevo archivo\n",
    "with open(nombre_archivo, \"w\", encoding=\"utf-8\") as archivo:\n",
    "    archivo.write(contenido_md)\n"
   ]
  }
 ],
 "metadata": {
  "kernelspec": {
   "display_name": "venv",
   "language": "python",
   "name": "python3"
  },
  "language_info": {
   "codemirror_mode": {
    "name": "ipython",
    "version": 3
   },
   "file_extension": ".py",
   "mimetype": "text/x-python",
   "name": "python",
   "nbconvert_exporter": "python",
   "pygments_lexer": "ipython3",
   "version": "3.11.6"
  }
 },
 "nbformat": 4,
 "nbformat_minor": 2
}
